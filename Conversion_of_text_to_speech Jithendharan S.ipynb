{
  "nbformat": 4,
  "nbformat_minor": 0,
  "metadata": {
    "colab": {
      "provenance": []
    },
    "kernelspec": {
      "name": "python3",
      "display_name": "Python 3"
    },
    "language_info": {
      "name": "python"
    }
  },
  "cells": [
    {
      "cell_type": "code",
      "execution_count": 1,
      "metadata": {
        "colab": {
          "base_uri": "https://localhost:8080/"
        },
        "id": "urVN-25kTHKt",
        "outputId": "d9aa0d64-d4ac-4353-fefc-4ae577e332c2"
      },
      "outputs": [
        {
          "output_type": "stream",
          "name": "stdout",
          "text": [
            "Collecting gTTs\n",
            "  Downloading gTTS-2.5.1-py3-none-any.whl (29 kB)\n",
            "Requirement already satisfied: requests<3,>=2.27 in /usr/local/lib/python3.10/dist-packages (from gTTs) (2.31.0)\n",
            "Requirement already satisfied: click<8.2,>=7.1 in /usr/local/lib/python3.10/dist-packages (from gTTs) (8.1.7)\n",
            "Requirement already satisfied: charset-normalizer<4,>=2 in /usr/local/lib/python3.10/dist-packages (from requests<3,>=2.27->gTTs) (3.3.2)\n",
            "Requirement already satisfied: idna<4,>=2.5 in /usr/local/lib/python3.10/dist-packages (from requests<3,>=2.27->gTTs) (3.6)\n",
            "Requirement already satisfied: urllib3<3,>=1.21.1 in /usr/local/lib/python3.10/dist-packages (from requests<3,>=2.27->gTTs) (2.0.7)\n",
            "Requirement already satisfied: certifi>=2017.4.17 in /usr/local/lib/python3.10/dist-packages (from requests<3,>=2.27->gTTs) (2024.2.2)\n",
            "Installing collected packages: gTTs\n",
            "Successfully installed gTTs-2.5.1\n"
          ]
        }
      ],
      "source": [
        "!pip install gTTs\n"
      ]
    },
    {
      "cell_type": "code",
      "source": [
        "from gtts import gTTS\n",
        "from IPython.display import Audio, display\n",
        "import os\n",
        "from pprint import pprint"
      ],
      "metadata": {
        "id": "pZW4rd3GTKrE"
      },
      "execution_count": 2,
      "outputs": []
    },
    {
      "cell_type": "code",
      "source": [
        "!pip install playsound"
      ],
      "metadata": {
        "colab": {
          "base_uri": "https://localhost:8080/"
        },
        "id": "9UPwHZk9TQyp",
        "outputId": "2e00dbe8-b18b-4d17-fb4f-e50e04ff904f"
      },
      "execution_count": 5,
      "outputs": [
        {
          "output_type": "stream",
          "name": "stdout",
          "text": [
            "Collecting playsound\n",
            "  Downloading playsound-1.3.0.tar.gz (7.7 kB)\n",
            "  Preparing metadata (setup.py) ... \u001b[?25l\u001b[?25hdone\n",
            "Building wheels for collected packages: playsound\n",
            "  Building wheel for playsound (setup.py) ... \u001b[?25l\u001b[?25hdone\n",
            "  Created wheel for playsound: filename=playsound-1.3.0-py3-none-any.whl size=7020 sha256=8b13445b6378fceacebb6ef5fdfca28b7bbd4a68d9fa512e0264d8c93333778c\n",
            "  Stored in directory: /root/.cache/pip/wheels/90/89/ed/2d643f4226fc8c7c9156fc28abd8051e2d2c0de37ae51ac45c\n",
            "Successfully built playsound\n",
            "Installing collected packages: playsound\n",
            "Successfully installed playsound-1.3.0\n"
          ]
        }
      ]
    },
    {
      "cell_type": "code",
      "source": [
        "text=\"Computer engineering is the intersection of computer science and electrical engineering.\""
      ],
      "metadata": {
        "id": "VKt9S-8GTVvM"
      },
      "execution_count": 6,
      "outputs": []
    },
    {
      "cell_type": "code",
      "source": [
        "tts = gTTS(text)"
      ],
      "metadata": {
        "id": "jxYZztihTdZU"
      },
      "execution_count": 7,
      "outputs": []
    },
    {
      "cell_type": "code",
      "source": [
        "tts.save(\"output.mp3\")\n",
        "tts.save(\"temp.mp3\")"
      ],
      "metadata": {
        "id": "iz1nvTeSThRH"
      },
      "execution_count": 8,
      "outputs": []
    },
    {
      "cell_type": "code",
      "source": [
        "display(Audio(\"temp.mp3\"))\n",
        "transcribed_text = tts.text"
      ],
      "metadata": {
        "colab": {
          "base_uri": "https://localhost:8080/",
          "height": 76
        },
        "id": "zBfJdYXCTlAp",
        "outputId": "7c4859d8-63e5-45f7-c9cb-a5de529b51f5"
      },
      "execution_count": 9,
      "outputs": [
        {
          "output_type": "display_data",
          "data": {
            "text/plain": [
              "<IPython.lib.display.Audio object>"
            ],
            "text/html": [
              "\n",
              "                <audio  controls=\"controls\" >\n",
              "                    <source src=\"data:audio/mpeg;base64,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\" type=\"audio/mpeg\" />\n",
              "                    Your browser does not support the audio element.\n",
              "                </audio>\n",
              "              "
            ]
          },
          "metadata": {}
        }
      ]
    },
    {
      "cell_type": "code",
      "source": [
        "def calculate_error_percentage(original, transcribed):\n",
        " original = original.lower()\n",
        " transcribed = transcribed.lower()\n",
        " error_count = sum(c1 != c2 for c1, c2 in zip(original, transcribed))\n",
        " total_chars = len(original)\n",
        " accuracy_percentage = ((total_chars - error_count) / total_chars) * 100 # Accuracy is (correct / total) * 100\n",
        " return accuracy_percentage"
      ],
      "metadata": {
        "id": "AXwrzhc2TrwQ"
      },
      "execution_count": 10,
      "outputs": []
    },
    {
      "cell_type": "code",
      "source": [
        "accuracy_percentage = calculate_error_percentage(text, transcribed_text)\n",
        "print(f\"Original Text: {text}\")\n",
        "print(f\"Transcribed Text: {transcribed_text}\")\n",
        "print(f\"Accuracy: {accuracy_percentage:.2f}%\")"
      ],
      "metadata": {
        "id": "EXun8V5DT6HT",
        "outputId": "c19affa2-14ed-44e1-96df-3a0f69429faf",
        "colab": {
          "base_uri": "https://localhost:8080/"
        }
      },
      "execution_count": 11,
      "outputs": [
        {
          "output_type": "stream",
          "name": "stdout",
          "text": [
            "Original Text: Computer engineering is the intersection of computer science and electrical engineering.\n",
            "Transcribed Text: Computer engineering is the intersection of computer science and electrical engineering.\n",
            "Accuracy: 100.00%\n"
          ]
        }
      ]
    }
  ]
}